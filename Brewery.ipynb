{
 "cells": [
  {
   "cell_type": "code",
   "execution_count": 1,
   "metadata": {},
   "outputs": [],
   "source": [
    "import requests\n",
    "import json\n",
    "import pandas as pd"
   ]
  },
  {
   "cell_type": "code",
   "execution_count": 2,
   "metadata": {},
   "outputs": [
    {
     "data": {
      "text/plain": [
       "<Response [200]>"
      ]
     },
     "execution_count": 2,
     "metadata": {},
     "output_type": "execute_result"
    }
   ],
   "source": [
    "with open('brewDB_key.txt', 'r') as file:\n",
    "    for line in file:\n",
    "        api_key = line\n",
    "        \n",
    "url = r\"https://sandbox-api.brewerydb.com/v2/breweries/?key=\"\n",
    "response = requests.get(url+api_key)\n",
    "response"
   ]
  },
  {
   "cell_type": "code",
   "execution_count": 9,
   "metadata": {},
   "outputs": [
    {
     "name": "stdout",
     "output_type": "stream",
     "text": [
      "{'id': 'BznahA', 'name': 'Anheuser-Busch InBev', 'nameShortDisplay': 'Anheuser-Busch InBev', 'description': \"Anheuser-Busch operates 12 breweries in the United States, 14 in China and one in the United Kingdom. Anheuser-Busch's operations and resources are focused on adding to life's enjoyment not only through the responsible consumption of beer by adults, but through theme park entertainment and packaging.  In the United States, the company holds a 48.5 percent share of U.S. beer sales. Worldwide, Anheuser-Busch's beer sales volume was 128.4 million barrels in 2007.  The St. Louis-based company's subsidiaries include one of the largest U.S. manufacturers of aluminum beverage containers and one of the world's largest recyclers of aluminum beverage cans. Anheuser-Busch also has interests in malt production, rice milling, real estate development, turf farming, metalized and paper label printing, bottle production and transportation services.\", 'website': 'http://www.anheuser-busch.com/', 'established': '1852', 'isOrganic': 'N', 'images': {'icon': 'https://brewerydb-images.s3.amazonaws.com/brewery/BznahA/upload_0FkKKl-icon.png', 'medium': 'https://brewerydb-images.s3.amazonaws.com/brewery/BznahA/upload_0FkKKl-medium.png', 'large': 'https://brewerydb-images.s3.amazonaws.com/brewery/BznahA/upload_0FkKKl-large.png', 'squareMedium': 'https://brewerydb-images.s3.amazonaws.com/brewery/BznahA/upload_0FkKKl-squareMedium.png', 'squareLarge': 'https://brewerydb-images.s3.amazonaws.com/brewery/BznahA/upload_0FkKKl-squareLarge.png'}, 'status': 'verified', 'statusDisplay': 'Verified', 'createDate': '2012-01-03 02:41:44', 'updateDate': '2018-11-02 02:15:01', 'isMassOwned': 'Y', 'isInBusiness': 'Y', 'isVerified': 'N'}\n",
      "\n",
      "dict_keys(['id', 'name', 'nameShortDisplay', 'description', 'website', 'established', 'isOrganic', 'images', 'status', 'statusDisplay', 'createDate', 'updateDate', 'isMassOwned', 'isInBusiness', 'isVerified'])\n"
     ]
    }
   ],
   "source": [
    "breweryData = response.json()['data']\n",
    "print(breweryData[0])\n",
    "print()\n",
    "print(breweryData[0].keys())"
   ]
  },
  {
   "cell_type": "code",
   "execution_count": 11,
   "metadata": {},
   "outputs": [],
   "source": [
    "#ID\n",
    "#Name\n",
    "#Year of Establishment\n",
    "#Status\n",
    "#Is it in business?\n",
    "#Is it mass owned?\n",
    "#Is it organic?\n",
    "#Website\n",
    "#Description\n",
    "keyMap = {\n",
    "    'ID': 'id',\n",
    "    'Name': 'name',\n",
    "    'Year of Establishment': 'established',\n",
    "    'Status': 'status',\n",
    "    'Is it in business?': 'isInBusiness',\n",
    "    'Is it mass owned?': 'isMassOwned',\n",
    "    'Is it organic?': 'isOrganic',\n",
    "    'Website': 'website',\n",
    "    'Description': 'description'\n",
    "}\n",
    "\n",
    "def getData(brewery):\n",
    "    dict = {}\n",
    "    for key in keyMap:\n",
    "        dict[key] = brewery.get(keyMap[key], '')\n",
    "    return dict\n"
   ]
  },
  {
   "cell_type": "code",
   "execution_count": 12,
   "metadata": {},
   "outputs": [
    {
     "name": "stdout",
     "output_type": "stream",
     "text": [
      "{'ID': 'BznahA', 'Name': 'Anheuser-Busch InBev', 'Year of Establishment': '1852', 'Status': 'verified', 'Is it in business?': 'Y', 'Is it mass owned?': 'Y', 'Is it organic?': 'N', 'Website': 'http://www.anheuser-busch.com/', 'Description': \"Anheuser-Busch operates 12 breweries in the United States, 14 in China and one in the United Kingdom. Anheuser-Busch's operations and resources are focused on adding to life's enjoyment not only through the responsible consumption of beer by adults, but through theme park entertainment and packaging.  In the United States, the company holds a 48.5 percent share of U.S. beer sales. Worldwide, Anheuser-Busch's beer sales volume was 128.4 million barrels in 2007.  The St. Louis-based company's subsidiaries include one of the largest U.S. manufacturers of aluminum beverage containers and one of the world's largest recyclers of aluminum beverage cans. Anheuser-Busch also has interests in malt production, rice milling, real estate development, turf farming, metalized and paper label printing, bottle production and transportation services.\"}\n"
     ]
    }
   ],
   "source": [
    "breweryDataFormatted = list(map(getData, breweryData))\n",
    "print(breweryDataFormatted[0]);"
   ]
  },
  {
   "cell_type": "code",
   "execution_count": 13,
   "metadata": {},
   "outputs": [],
   "source": [
    "columns = list(keyMap.keys())\n",
    "df = pd.DataFrame(breweryDataFormatted, columns=columns)"
   ]
  },
  {
   "cell_type": "code",
   "execution_count": 14,
   "metadata": {},
   "outputs": [
    {
     "data": {
      "text/html": [
       "<div>\n",
       "<style scoped>\n",
       "    .dataframe tbody tr th:only-of-type {\n",
       "        vertical-align: middle;\n",
       "    }\n",
       "\n",
       "    .dataframe tbody tr th {\n",
       "        vertical-align: top;\n",
       "    }\n",
       "\n",
       "    .dataframe thead th {\n",
       "        text-align: right;\n",
       "    }\n",
       "</style>\n",
       "<table border=\"1\" class=\"dataframe\">\n",
       "  <thead>\n",
       "    <tr style=\"text-align: right;\">\n",
       "      <th></th>\n",
       "      <th>ID</th>\n",
       "      <th>Name</th>\n",
       "      <th>Year of Establishment</th>\n",
       "      <th>Status</th>\n",
       "      <th>Is it in business?</th>\n",
       "      <th>Is it mass owned?</th>\n",
       "      <th>Is it organic?</th>\n",
       "      <th>Website</th>\n",
       "      <th>Description</th>\n",
       "    </tr>\n",
       "  </thead>\n",
       "  <tbody>\n",
       "    <tr>\n",
       "      <th>0</th>\n",
       "      <td>BznahA</td>\n",
       "      <td>Anheuser-Busch InBev</td>\n",
       "      <td>1852</td>\n",
       "      <td>verified</td>\n",
       "      <td>Y</td>\n",
       "      <td>Y</td>\n",
       "      <td>N</td>\n",
       "      <td>http://www.anheuser-busch.com/</td>\n",
       "      <td>Anheuser-Busch operates 12 breweries in the Un...</td>\n",
       "    </tr>\n",
       "    <tr>\n",
       "      <th>1</th>\n",
       "      <td>rd8LRZ</td>\n",
       "      <td>Boston Beer Company (Samuel Adams)</td>\n",
       "      <td></td>\n",
       "      <td>new_unverified</td>\n",
       "      <td>Y</td>\n",
       "      <td>N</td>\n",
       "      <td>N</td>\n",
       "      <td></td>\n",
       "      <td></td>\n",
       "    </tr>\n",
       "    <tr>\n",
       "      <th>2</th>\n",
       "      <td>IImUD9</td>\n",
       "      <td>Breckenridge Brewery</td>\n",
       "      <td>1990</td>\n",
       "      <td>verified</td>\n",
       "      <td>Y</td>\n",
       "      <td>Y</td>\n",
       "      <td>N</td>\n",
       "      <td>http://www.breckbrew.com/</td>\n",
       "      <td>Breckenridge Brewery was founded in 1990 in Br...</td>\n",
       "    </tr>\n",
       "    <tr>\n",
       "      <th>3</th>\n",
       "      <td>uM2jeT</td>\n",
       "      <td>Brouwerij De Leite</td>\n",
       "      <td>2008</td>\n",
       "      <td>verified</td>\n",
       "      <td>Y</td>\n",
       "      <td>N</td>\n",
       "      <td>N</td>\n",
       "      <td>http://www.deleite.be/</td>\n",
       "      <td>Brewing since 1997.  Officially transformed in...</td>\n",
       "    </tr>\n",
       "    <tr>\n",
       "      <th>4</th>\n",
       "      <td>p3YrOa</td>\n",
       "      <td>Dock Street Brewery</td>\n",
       "      <td>1985</td>\n",
       "      <td>verified</td>\n",
       "      <td>Y</td>\n",
       "      <td>N</td>\n",
       "      <td>N</td>\n",
       "      <td>http://www.dockstreetbeer.com</td>\n",
       "      <td>Founded in 1985, Dock Street Brewing Co. was t...</td>\n",
       "    </tr>\n",
       "  </tbody>\n",
       "</table>\n",
       "</div>"
      ],
      "text/plain": [
       "       ID                                Name Year of Establishment  \\\n",
       "0  BznahA                Anheuser-Busch InBev                  1852   \n",
       "1  rd8LRZ  Boston Beer Company (Samuel Adams)                         \n",
       "2  IImUD9                Breckenridge Brewery                  1990   \n",
       "3  uM2jeT                  Brouwerij De Leite                  2008   \n",
       "4  p3YrOa                 Dock Street Brewery                  1985   \n",
       "\n",
       "           Status Is it in business? Is it mass owned? Is it organic?  \\\n",
       "0        verified                  Y                 Y              N   \n",
       "1  new_unverified                  Y                 N              N   \n",
       "2        verified                  Y                 Y              N   \n",
       "3        verified                  Y                 N              N   \n",
       "4        verified                  Y                 N              N   \n",
       "\n",
       "                          Website  \\\n",
       "0  http://www.anheuser-busch.com/   \n",
       "1                                   \n",
       "2       http://www.breckbrew.com/   \n",
       "3          http://www.deleite.be/   \n",
       "4   http://www.dockstreetbeer.com   \n",
       "\n",
       "                                         Description  \n",
       "0  Anheuser-Busch operates 12 breweries in the Un...  \n",
       "1                                                     \n",
       "2  Breckenridge Brewery was founded in 1990 in Br...  \n",
       "3  Brewing since 1997.  Officially transformed in...  \n",
       "4  Founded in 1985, Dock Street Brewing Co. was t...  "
      ]
     },
     "execution_count": 14,
     "metadata": {},
     "output_type": "execute_result"
    }
   ],
   "source": [
    "df.head()"
   ]
  },
  {
   "cell_type": "code",
   "execution_count": 15,
   "metadata": {},
   "outputs": [
    {
     "data": {
      "text/html": [
       "<div>\n",
       "<style scoped>\n",
       "    .dataframe tbody tr th:only-of-type {\n",
       "        vertical-align: middle;\n",
       "    }\n",
       "\n",
       "    .dataframe tbody tr th {\n",
       "        vertical-align: top;\n",
       "    }\n",
       "\n",
       "    .dataframe thead th {\n",
       "        text-align: right;\n",
       "    }\n",
       "</style>\n",
       "<table border=\"1\" class=\"dataframe\">\n",
       "  <thead>\n",
       "    <tr style=\"text-align: right;\">\n",
       "      <th></th>\n",
       "      <th>ID</th>\n",
       "      <th>Name</th>\n",
       "      <th>Year of Establishment</th>\n",
       "      <th>Status</th>\n",
       "      <th>Is it in business?</th>\n",
       "      <th>Is it mass owned?</th>\n",
       "      <th>Is it organic?</th>\n",
       "      <th>Website</th>\n",
       "      <th>Description</th>\n",
       "    </tr>\n",
       "  </thead>\n",
       "  <tbody>\n",
       "    <tr>\n",
       "      <th>14</th>\n",
       "      <td>4F7QA9</td>\n",
       "      <td>Portsmouth Brewery</td>\n",
       "      <td>1991</td>\n",
       "      <td>verified</td>\n",
       "      <td>Y</td>\n",
       "      <td>N</td>\n",
       "      <td>N</td>\n",
       "      <td>http://www.portsmouthbrewery.com/</td>\n",
       "      <td>The Portsmouth Brewery, New Hampshire's first ...</td>\n",
       "    </tr>\n",
       "    <tr>\n",
       "      <th>15</th>\n",
       "      <td>nHLlnK</td>\n",
       "      <td>Sierra Nevada Brewing Company</td>\n",
       "      <td>1980</td>\n",
       "      <td>verified</td>\n",
       "      <td>Y</td>\n",
       "      <td>N</td>\n",
       "      <td>N</td>\n",
       "      <td>http://www.sierranevada.com/</td>\n",
       "      <td>The Sierra Nevada Brewing Company was establis...</td>\n",
       "    </tr>\n",
       "    <tr>\n",
       "      <th>16</th>\n",
       "      <td>TMc6H2</td>\n",
       "      <td>SweetWater Brewing Company</td>\n",
       "      <td>1997</td>\n",
       "      <td>verified</td>\n",
       "      <td>Y</td>\n",
       "      <td>N</td>\n",
       "      <td>N</td>\n",
       "      <td>http://www.sweetwaterbrew.com/</td>\n",
       "      <td>February 17, 1997 marked the official beginnin...</td>\n",
       "    </tr>\n",
       "    <tr>\n",
       "      <th>17</th>\n",
       "      <td>DifSi4</td>\n",
       "      <td>Wachusett Brewing Company</td>\n",
       "      <td>1994</td>\n",
       "      <td>verified</td>\n",
       "      <td>Y</td>\n",
       "      <td>N</td>\n",
       "      <td>N</td>\n",
       "      <td>http://www.wachusettbrew.com/</td>\n",
       "      <td>Wachusett Brewing Company was founded in 1994 ...</td>\n",
       "    </tr>\n",
       "    <tr>\n",
       "      <th>18</th>\n",
       "      <td>VEY3Xa</td>\n",
       "      <td>Zero Gravity Craft Brewery</td>\n",
       "      <td>2004</td>\n",
       "      <td>verified</td>\n",
       "      <td>Y</td>\n",
       "      <td>N</td>\n",
       "      <td>N</td>\n",
       "      <td>http://www.zerogravitybeer.com/</td>\n",
       "      <td>Superior craft beer out of Burlington, Vermont...</td>\n",
       "    </tr>\n",
       "  </tbody>\n",
       "</table>\n",
       "</div>"
      ],
      "text/plain": [
       "        ID                           Name Year of Establishment    Status  \\\n",
       "14  4F7QA9             Portsmouth Brewery                  1991  verified   \n",
       "15  nHLlnK  Sierra Nevada Brewing Company                  1980  verified   \n",
       "16  TMc6H2     SweetWater Brewing Company                  1997  verified   \n",
       "17  DifSi4      Wachusett Brewing Company                  1994  verified   \n",
       "18  VEY3Xa     Zero Gravity Craft Brewery                  2004  verified   \n",
       "\n",
       "   Is it in business? Is it mass owned? Is it organic?  \\\n",
       "14                  Y                 N              N   \n",
       "15                  Y                 N              N   \n",
       "16                  Y                 N              N   \n",
       "17                  Y                 N              N   \n",
       "18                  Y                 N              N   \n",
       "\n",
       "                              Website  \\\n",
       "14  http://www.portsmouthbrewery.com/   \n",
       "15       http://www.sierranevada.com/   \n",
       "16     http://www.sweetwaterbrew.com/   \n",
       "17      http://www.wachusettbrew.com/   \n",
       "18    http://www.zerogravitybeer.com/   \n",
       "\n",
       "                                          Description  \n",
       "14  The Portsmouth Brewery, New Hampshire's first ...  \n",
       "15  The Sierra Nevada Brewing Company was establis...  \n",
       "16  February 17, 1997 marked the official beginnin...  \n",
       "17  Wachusett Brewing Company was founded in 1994 ...  \n",
       "18  Superior craft beer out of Burlington, Vermont...  "
      ]
     },
     "execution_count": 15,
     "metadata": {},
     "output_type": "execute_result"
    }
   ],
   "source": [
    "df.tail()"
   ]
  },
  {
   "cell_type": "code",
   "execution_count": null,
   "metadata": {},
   "outputs": [],
   "source": []
  }
 ],
 "metadata": {
  "kernelspec": {
   "display_name": "Python 3",
   "language": "python",
   "name": "python3"
  },
  "language_info": {
   "codemirror_mode": {
    "name": "ipython",
    "version": 3
   },
   "file_extension": ".py",
   "mimetype": "text/x-python",
   "name": "python",
   "nbconvert_exporter": "python",
   "pygments_lexer": "ipython3",
   "version": "3.7.3"
  }
 },
 "nbformat": 4,
 "nbformat_minor": 2
}
