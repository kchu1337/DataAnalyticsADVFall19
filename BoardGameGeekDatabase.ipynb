{
 "cells": [
  {
   "cell_type": "code",
   "execution_count": 61,
   "metadata": {},
   "outputs": [],
   "source": [
    "#library to use dataframes\n",
    "import pandas as pd\n",
    "\n",
    "#library to connect & interact with databases\n",
    "from sqlalchemy import create_engine, inspect"
   ]
  },
  {
   "cell_type": "code",
   "execution_count": 62,
   "metadata": {},
   "outputs": [],
   "source": [
    "db_file = r'datasets/boardgames.sqlite'\n",
    "\n",
    "# set the connection to SQLite database in a variable\n",
    "engine = create_engine(f\"sqlite:///{db_file}\")"
   ]
  },
  {
   "cell_type": "code",
   "execution_count": 63,
   "metadata": {},
   "outputs": [],
   "source": [
    "inspector = inspect(engine)"
   ]
  },
  {
   "cell_type": "code",
   "execution_count": 64,
   "metadata": {},
   "outputs": [
    {
     "name": "stdout",
     "output_type": "stream",
     "text": [
      "BoardGames\n",
      "Index(['row_names', 'game.id', 'game.type', 'details.description',\n",
      "       'details.image', 'details.maxplayers', 'details.maxplaytime',\n",
      "       'details.minage', 'details.minplayers', 'details.minplaytime',\n",
      "       'details.name', 'details.playingtime', 'details.thumbnail',\n",
      "       'details.yearpublished', 'attributes.boardgameartist',\n",
      "       'attributes.boardgamecategory', 'attributes.boardgamecompilation',\n",
      "       'attributes.boardgamedesigner', 'attributes.boardgameexpansion',\n",
      "       'attributes.boardgamefamily', 'attributes.boardgameimplementation',\n",
      "       'attributes.boardgameintegration', 'attributes.boardgamemechanic',\n",
      "       'attributes.boardgamepublisher', 'attributes.total', 'stats.average',\n",
      "       'stats.averageweight', 'stats.bayesaverage',\n",
      "       'stats.family.abstracts.bayesaverage', 'stats.family.abstracts.pos',\n",
      "       'stats.family.cgs.bayesaverage', 'stats.family.cgs.pos',\n",
      "       'stats.family.childrensgames.bayesaverage',\n",
      "       'stats.family.childrensgames.pos',\n",
      "       'stats.family.familygames.bayesaverage', 'stats.family.familygames.pos',\n",
      "       'stats.family.partygames.bayesaverage', 'stats.family.partygames.pos',\n",
      "       'stats.family.strategygames.bayesaverage',\n",
      "       'stats.family.strategygames.pos', 'stats.family.thematic.bayesaverage',\n",
      "       'stats.family.thematic.pos', 'stats.family.wargames.bayesaverage',\n",
      "       'stats.family.wargames.pos', 'stats.median', 'stats.numcomments',\n",
      "       'stats.numweights', 'stats.owned', 'stats.stddev',\n",
      "       'stats.subtype.boardgame.bayesaverage', 'stats.subtype.boardgame.pos',\n",
      "       'stats.trading', 'stats.usersrated', 'stats.wanting', 'stats.wishing',\n",
      "       'polls.language_dependence', 'polls.suggested_numplayers.1',\n",
      "       'polls.suggested_numplayers.10', 'polls.suggested_numplayers.2',\n",
      "       'polls.suggested_numplayers.3', 'polls.suggested_numplayers.4',\n",
      "       'polls.suggested_numplayers.5', 'polls.suggested_numplayers.6',\n",
      "       'polls.suggested_numplayers.7', 'polls.suggested_numplayers.8',\n",
      "       'polls.suggested_numplayers.9', 'polls.suggested_numplayers.Over',\n",
      "       'polls.suggested_playerage', 'attributes.t.links.concat.2....',\n",
      "       'stats.family.amiga.bayesaverage', 'stats.family.amiga.pos',\n",
      "       'stats.family.arcade.bayesaverage', 'stats.family.arcade.pos',\n",
      "       'stats.family.atarist.bayesaverage', 'stats.family.atarist.pos',\n",
      "       'stats.family.commodore64.bayesaverage', 'stats.family.commodore64.pos',\n",
      "       'stats.subtype.rpgitem.bayesaverage', 'stats.subtype.rpgitem.pos',\n",
      "       'stats.subtype.videogame.bayesaverage', 'stats.subtype.videogame.pos'],\n",
      "      dtype='object')\n",
      "(90400, 81)\n",
      "\n",
      "bgg.ldaOut.top.documents\n",
      "Index(['row_names', 'document', 'topic', 'gamma'], dtype='object')\n",
      "(288, 4)\n",
      "\n",
      "bgg.ldaOut.top.terms\n",
      "Index(['row_names', 'topic', 'term', 'beta'], dtype='object')\n",
      "(250, 4)\n",
      "\n",
      "bgg.ldaOut.topics\n",
      "Index(['row_names', 'topics(bgg.ldaOut)'], dtype='object')\n",
      "(29229, 2)\n",
      "\n",
      "bgg.topics\n",
      "Index(['row_names', 'game.id', 'game.type', 'details.maxplayers',\n",
      "       'details.maxplaytime', 'details.minage', 'details.minplayers',\n",
      "       'details.minplaytime', 'details.name', 'details.playingtime',\n",
      "       'details.yearpublished', 'attributes.boardgameartist',\n",
      "       'attributes.boardgamecategory', 'attributes.boardgamecompilation',\n",
      "       'attributes.boardgamedesigner', 'attributes.boardgameexpansion',\n",
      "       'attributes.boardgamefamily', 'attributes.boardgameimplementation',\n",
      "       'attributes.boardgameintegration', 'attributes.boardgamemechanic',\n",
      "       'attributes.boardgamepublisher', 'attributes.total', 'stats.average',\n",
      "       'stats.averageweight', 'stats.bayesaverage',\n",
      "       'stats.family.abstracts.bayesaverage', 'stats.family.abstracts.pos',\n",
      "       'stats.family.cgs.bayesaverage', 'stats.family.cgs.pos',\n",
      "       'stats.family.childrensgames.bayesaverage',\n",
      "       'stats.family.childrensgames.pos',\n",
      "       'stats.family.familygames.bayesaverage', 'stats.family.familygames.pos',\n",
      "       'stats.family.partygames.bayesaverage', 'stats.family.partygames.pos',\n",
      "       'stats.family.strategygames.bayesaverage',\n",
      "       'stats.family.strategygames.pos', 'stats.family.thematic.bayesaverage',\n",
      "       'stats.family.thematic.pos', 'stats.family.wargames.bayesaverage',\n",
      "       'stats.family.wargames.pos', 'stats.numcomments', 'stats.numweights',\n",
      "       'stats.owned', 'stats.stddev', 'stats.subtype.boardgame.bayesaverage',\n",
      "       'stats.subtype.boardgame.pos', 'stats.trading', 'stats.usersrated',\n",
      "       'stats.wanting', 'stats.wishing', 'polls.language_dependence',\n",
      "       'polls.suggested_numplayers.1', 'polls.suggested_numplayers.10',\n",
      "       'polls.suggested_numplayers.2', 'polls.suggested_numplayers.3',\n",
      "       'polls.suggested_numplayers.4', 'polls.suggested_numplayers.5',\n",
      "       'polls.suggested_numplayers.6', 'polls.suggested_numplayers.7',\n",
      "       'polls.suggested_numplayers.8', 'polls.suggested_numplayers.9',\n",
      "       'polls.suggested_numplayers.Over', 'polls.suggested_playerage',\n",
      "       'attributes.t.links.concat.2....', 'stats.subtype.rpgitem.bayesaverage',\n",
      "       'stats.subtype.rpgitem.pos', 'stats.weight.factor',\n",
      "       'details.playingtime.factor', 'details.minplayers.factor',\n",
      "       'details.maxplayers.factor', 'details.minage.factor',\n",
      "       'stats.average.factor', 'topic'],\n",
      "      dtype='object')\n",
      "(29313, 74)\n",
      "\n"
     ]
    }
   ],
   "source": [
    "table_names = engine.table_names()\n",
    "\n",
    "for table_name in table_names :\n",
    "    columns = (inspector.get_columns(table_name))\n",
    "    print(table_name)\n",
    "    sql = f\"SELECT * FROM '{table_name}'\"\n",
    "    df = pd.read_sql(sql, engine)\n",
    "    print(df.columns)\n",
    "    print(df.shape)\n",
    "    print('')"
   ]
  },
  {
   "cell_type": "code",
   "execution_count": null,
   "metadata": {},
   "outputs": [],
   "source": []
  }
 ],
 "metadata": {
  "kernelspec": {
   "display_name": "Python 3",
   "language": "python",
   "name": "python3"
  },
  "language_info": {
   "codemirror_mode": {
    "name": "ipython",
    "version": 3
   },
   "file_extension": ".py",
   "mimetype": "text/x-python",
   "name": "python",
   "nbconvert_exporter": "python",
   "pygments_lexer": "ipython3",
   "version": "3.7.3"
  }
 },
 "nbformat": 4,
 "nbformat_minor": 2
}
